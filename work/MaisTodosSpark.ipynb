{
 "cells": [
  {
   "cell_type": "code",
   "execution_count": 1,
   "id": "83c70411-7619-4d8f-b4d2-9ac67da7018e",
   "metadata": {},
   "outputs": [],
   "source": [
    "from pyspark.sql.functions import expr, lit, stddev, when, min as min_ps, max as max_ps, sum, mean, col\n",
    "from pyspark.sql.types import StringType, FloatType, StructType, StructField\n",
    "from pyspark.sql import SparkSession"
   ]
  },
  {
   "cell_type": "code",
   "execution_count": 2,
   "id": "791fac87-524c-4ffe-b453-f2f0987379c6",
   "metadata": {},
   "outputs": [
    {
     "name": "stderr",
     "output_type": "stream",
     "text": [
      "Setting default log level to \"WARN\".\n",
      "To adjust logging level use sc.setLogLevel(newLevel). For SparkR, use setLogLevel(newLevel).\n"
     ]
    },
    {
     "name": "stdout",
     "output_type": "stream",
     "text": [
      "22/12/08 21:26:54 WARN NativeCodeLoader: Unable to load native-hadoop library for your platform... using builtin-java classes where applicable\n"
     ]
    }
   ],
   "source": [
    "spark = SparkSession \\\n",
    "    .builder \\\n",
    "    .appName(\"Carga\") \\\n",
    "    .getOrCreate()"
   ]
  },
  {
   "cell_type": "code",
   "execution_count": 3,
   "id": "e41b5de5-e5cf-4284-bf4e-6099efb8db94",
   "metadata": {},
   "outputs": [],
   "source": [
    "df_read = spark.read.format('csv').option(\"inferSchema\",\"true\").option(\"header\", True).load('/home/jovyan/work/MaisTodos/')"
   ]
  },
  {
   "cell_type": "markdown",
   "id": "24c6c91b-7bd9-4eb0-99ee-7124cd71e179",
   "metadata": {},
   "source": [
    "# Objetivo  \n"
   ]
  },
  {
   "cell_type": "markdown",
   "id": "f35fdadb-785c-483c-a890-3991778c07d2",
   "metadata": {},
   "source": [
    "# 1 - Exploração:"
   ]
  },
  {
   "cell_type": "markdown",
   "id": "a50d6cfd-31ac-4a0b-adcd-3ad6fb37b320",
   "metadata": {},
   "source": [
    "1.1 - Qual a coluna com maior desvio padrão?"
   ]
  },
  {
   "cell_type": "code",
   "execution_count": 4,
   "id": "6dbe5962-4134-445a-baa8-d72b5254db79",
   "metadata": {},
   "outputs": [
    {
     "name": "stdout",
     "output_type": "stream",
     "text": [
      "+------------------+-----------------+-----------------+-----------------+-----------------+------------------+------------------+\n",
      "|housing_median_age|      total_rooms|   total_bedrooms|       population|       households|     median_income|median_house_value|\n",
      "+------------------+-----------------+-----------------+-----------------+-----------------+------------------+------------------+\n",
      "|12.586936981660406|2179.947071452777|421.4994515798648|1147.852959159527|384.5208408559016|1.9081565183791036|115983.76438720895|\n",
      "+------------------+-----------------+-----------------+-----------------+-----------------+------------------+------------------+\n",
      "\n"
     ]
    }
   ],
   "source": [
    "df_stddev = df_read.select(stddev(\"housing_median_age\").alias(\"housing_median_age\"),\n",
    "               stddev(\"total_rooms\").alias(\"total_rooms\"),\n",
    "               stddev(\"total_bedrooms\").alias(\"total_bedrooms\"),\n",
    "               stddev(\"population\").alias(\"population\"),\n",
    "               stddev(\"households\").alias(\"households\"),\n",
    "               stddev(\"median_income\").alias(\"median_income\"),\n",
    "               stddev(\"median_house_value\").alias(\"median_house_value\"))\n",
    "df_stddev.show()"
   ]
  },
  {
   "cell_type": "code",
   "execution_count": 5,
   "id": "310b82a1-b15b-4b32-a9d4-ad7155b3e74a",
   "metadata": {},
   "outputs": [
    {
     "data": {
      "text/plain": [
       "'coluna maior desvio padrão: median_house_value'"
      ]
     },
     "execution_count": 5,
     "metadata": {},
     "output_type": "execute_result"
    }
   ],
   "source": [
    "std_values = df_stddev.first().asDict()\n",
    "f\"coluna maior desvio padrão: {max(std_values, key=std_values.get)}\" "
   ]
  },
  {
   "cell_type": "code",
   "execution_count": 6,
   "id": "1a45811b-95c3-4ea4-bd34-7a7ccd3409b3",
   "metadata": {},
   "outputs": [
    {
     "data": {
      "text/plain": [
       "'coluna maior desvio padrão: median_house_value'"
      ]
     },
     "execution_count": 6,
     "metadata": {},
     "output_type": "execute_result"
    }
   ],
   "source": [
    "f\"coluna maior desvio padrão: {df_stddev.toPandas().loc[0].T.idxmax()}\""
   ]
  },
  {
   "cell_type": "markdown",
   "id": "a43514d5-f43d-4f10-9cc9-f3f8b9a87fe4",
   "metadata": {},
   "source": [
    "1.2 - Qual valor mínimo e o máximo?"
   ]
  },
  {
   "cell_type": "code",
   "execution_count": 7,
   "id": "0304e507-c9f6-4c2c-9f1b-444ad7d66bba",
   "metadata": {},
   "outputs": [
    {
     "name": "stdout",
     "output_type": "stream",
     "text": [
      "+------------------+-----------+--------------+----------+----------+-------------+------------------+\n",
      "|housing_median_age|total_rooms|total_bedrooms|population|households|median_income|median_house_value|\n",
      "+------------------+-----------+--------------+----------+----------+-------------+------------------+\n",
      "|               1.0|        2.0|           1.0|       3.0|       1.0|       0.4999|           14999.0|\n",
      "+------------------+-----------+--------------+----------+----------+-------------+------------------+\n",
      "\n"
     ]
    }
   ],
   "source": [
    "df_min = df_read.select(min_ps(\"housing_median_age\").alias(\"housing_median_age\"),\n",
    "                        min_ps(\"total_rooms\").alias(\"total_rooms\"),\n",
    "                        min_ps(\"total_bedrooms\").alias(\"total_bedrooms\"),\n",
    "                        min_ps(\"population\").alias(\"population\"),\n",
    "                        min_ps(\"households\").alias(\"households\"),\n",
    "                        min_ps(\"median_income\").alias(\"median_income\"),\n",
    "                        min_ps(\"median_house_value\").alias(\"median_house_value\"))\n",
    "df_min.show()"
   ]
  },
  {
   "cell_type": "code",
   "execution_count": 8,
   "id": "99f2eaab-6277-4c80-95c7-3ffac56f6f04",
   "metadata": {},
   "outputs": [
    {
     "name": "stdout",
     "output_type": "stream",
     "text": [
      "+------------------+-----------+--------------+----------+----------+-------------+------------------+\n",
      "|housing_median_age|total_rooms|total_bedrooms|population|households|median_income|median_house_value|\n",
      "+------------------+-----------+--------------+----------+----------+-------------+------------------+\n",
      "|              52.0|    37937.0|        6445.0|   35682.0|    6082.0|      15.0001|          500001.0|\n",
      "+------------------+-----------+--------------+----------+----------+-------------+------------------+\n",
      "\n"
     ]
    }
   ],
   "source": [
    "df_max = df_read.select(max_ps(\"housing_median_age\").alias(\"housing_median_age\"),\n",
    "                        max_ps(\"total_rooms\").alias(\"total_rooms\"),\n",
    "                        max_ps(\"total_bedrooms\").alias(\"total_bedrooms\"),\n",
    "                        max_ps(\"population\").alias(\"population\"),\n",
    "                        max_ps(\"households\").alias(\"households\"),\n",
    "                        max_ps(\"median_income\").alias(\"median_income\"),\n",
    "                        max_ps(\"median_house_value\").alias(\"median_house_value\"))\n",
    "df_max.show()"
   ]
  },
  {
   "cell_type": "code",
   "execution_count": 9,
   "id": "10750fd2-f331-44b2-b1bb-866796cda093",
   "metadata": {},
   "outputs": [
    {
     "data": {
      "text/plain": [
       "housing_median_age        1.0000\n",
       "total_rooms               2.0000\n",
       "total_bedrooms            1.0000\n",
       "population                3.0000\n",
       "households                1.0000\n",
       "median_income             0.4999\n",
       "median_house_value    14999.0000\n",
       "Name: 0, dtype: float64"
      ]
     },
     "execution_count": 9,
     "metadata": {},
     "output_type": "execute_result"
    }
   ],
   "source": [
    "df_min.toPandas().loc[0].T"
   ]
  },
  {
   "cell_type": "code",
   "execution_count": 10,
   "id": "e396b275-0bcb-4a2d-8e26-84636c270563",
   "metadata": {},
   "outputs": [
    {
     "name": "stdout",
     "output_type": "stream",
     "text": [
      "valor minimo: median_income\n",
      "valor maximo: median_house_value\n"
     ]
    }
   ],
   "source": [
    "min_values = df_min.first().asDict()\n",
    "max_values = df_max.first().asDict()\n",
    "\n",
    "print(f\"\"\"valor minimo: {min(min_values, key=std_values.get)}\n",
    "valor maximo: {max(max_values, key=std_values.get)}\"\"\")"
   ]
  },
  {
   "cell_type": "code",
   "execution_count": 11,
   "id": "8b0e831f-7dfa-4f8d-b095-0d9d026b4295",
   "metadata": {},
   "outputs": [
    {
     "name": "stdout",
     "output_type": "stream",
     "text": [
      "valor minimo: 0.4999\n",
      "valor maximo: 500001.0\n"
     ]
    }
   ],
   "source": [
    "print(f\"\"\"valor minimo: {df_min.toPandas().loc[0].T.min()}\n",
    "valor maximo: {df_max.toPandas().loc[0].T.max()}\"\"\")"
   ]
  },
  {
   "cell_type": "markdown",
   "id": "544e2829-55eb-4cfa-914d-b081d267cfb7",
   "metadata": {},
   "source": [
    "## 2 - Trabalhando com colunas:"
   ]
  },
  {
   "cell_type": "markdown",
   "id": "9e7b79fe-68ca-43ca-9be1-0a56ab5a0b59",
   "metadata": {},
   "source": [
    "2.1 - Criar coluna hma_cat, baseada na coluna housing_median_age, conforme as regras abaixo:\n",
    "\n",
    "    *  Se < 18 então de_0_ate_18.\n",
    "    *  Se >= 18 E < 29 entao ate_29.\n",
    "    *  Se >= 29 E < 37 entao ate_37.\n",
    "    *  Se >= 37 então acima_37.  "
   ]
  },
  {
   "cell_type": "code",
   "execution_count": 12,
   "id": "5e1f63aa-6793-4f8c-bb8b-924a5d24236f",
   "metadata": {},
   "outputs": [],
   "source": [
    "df_read = df_read.withColumn(\"hma_cat\", when(df_read[\"housing_median_age\"] < 18, \"de_0_ate_18\")\n",
    "                                       .when(df_read[\"housing_median_age\"].between(18, 28), \"ate_29\")\n",
    "                                       .when(df_read[\"housing_median_age\"].between(29, 36), \"ate_37\")\n",
    "                                       .when(df_read[\"housing_median_age\"] >=37, \"acima_37\")\n",
    "                                       .otherwise(df_read[\"housing_median_age\"]))"
   ]
  },
  {
   "cell_type": "code",
   "execution_count": 13,
   "id": "75f1f92f-a51a-4356-8148-3ea0f16be544",
   "metadata": {},
   "outputs": [
    {
     "name": "stdout",
     "output_type": "stream",
     "text": [
      "+---------+--------+------------------+-----------+--------------+----------+----------+-------------+------------------+-----------+\n",
      "|longitude|latitude|housing_median_age|total_rooms|total_bedrooms|population|households|median_income|median_house_value|    hma_cat|\n",
      "+---------+--------+------------------+-----------+--------------+----------+----------+-------------+------------------+-----------+\n",
      "|  -114.31|   34.19|              15.0|     5612.0|        1283.0|    1015.0|     472.0|       1.4936|           66900.0|de_0_ate_18|\n",
      "|  -114.47|    34.4|              19.0|     7650.0|        1901.0|    1129.0|     463.0|         1.82|           80100.0|     ate_29|\n",
      "|  -114.56|   33.69|              17.0|      720.0|         174.0|     333.0|     117.0|       1.6509|           85700.0|de_0_ate_18|\n",
      "|  -114.57|   33.64|              14.0|     1501.0|         337.0|     515.0|     226.0|       3.1917|           73400.0|de_0_ate_18|\n",
      "|  -114.57|   33.57|              20.0|     1454.0|         326.0|     624.0|     262.0|        1.925|           65500.0|     ate_29|\n",
      "|  -114.58|   33.63|              29.0|     1387.0|         236.0|     671.0|     239.0|       3.3438|           74000.0|     ate_37|\n",
      "|  -114.58|   33.61|              25.0|     2907.0|         680.0|    1841.0|     633.0|       2.6768|           82400.0|     ate_29|\n",
      "|  -114.59|   34.83|              41.0|      812.0|         168.0|     375.0|     158.0|       1.7083|           48500.0|   acima_37|\n",
      "|  -114.59|   33.61|              34.0|     4789.0|        1175.0|    3134.0|    1056.0|       2.1782|           58400.0|     ate_37|\n",
      "|   -114.6|   34.83|              46.0|     1497.0|         309.0|     787.0|     271.0|       2.1908|           48100.0|   acima_37|\n",
      "|   -114.6|   33.62|              16.0|     3741.0|         801.0|    2434.0|     824.0|       2.6797|           86500.0|de_0_ate_18|\n",
      "|   -114.6|    33.6|              21.0|     1988.0|         483.0|    1182.0|     437.0|        1.625|           62000.0|     ate_29|\n",
      "|  -114.61|   34.84|              48.0|     1291.0|         248.0|     580.0|     211.0|       2.1571|           48600.0|   acima_37|\n",
      "|  -114.61|   34.83|              31.0|     2478.0|         464.0|    1346.0|     479.0|        3.212|           70400.0|     ate_37|\n",
      "|  -114.63|   32.76|              15.0|     1448.0|         378.0|     949.0|     300.0|       0.8585|           45000.0|de_0_ate_18|\n",
      "|  -114.65|   34.89|              17.0|     2556.0|         587.0|    1005.0|     401.0|       1.6991|           69100.0|de_0_ate_18|\n",
      "|  -114.65|    33.6|              28.0|     1678.0|         322.0|     666.0|     256.0|       2.9653|           94900.0|     ate_29|\n",
      "|  -114.65|   32.79|              21.0|       44.0|          33.0|      64.0|      27.0|       0.8571|           25000.0|     ate_29|\n",
      "|  -114.66|   32.74|              17.0|     1388.0|         386.0|     775.0|     320.0|       1.2049|           44000.0|de_0_ate_18|\n",
      "|  -114.67|   33.92|              17.0|       97.0|          24.0|      29.0|      15.0|       1.2656|           27500.0|de_0_ate_18|\n",
      "+---------+--------+------------------+-----------+--------------+----------+----------+-------------+------------------+-----------+\n",
      "only showing top 20 rows\n",
      "\n"
     ]
    }
   ],
   "source": [
    "df_read.show()"
   ]
  },
  {
   "cell_type": "markdown",
   "id": "4d2ab4be-56ef-4c6a-9ce7-8740baf0782c",
   "metadata": {},
   "source": [
    "2.2 - Criar a coluna c_ns:\n",
    "\n",
    "    * Onde longitude abaixo (<) de -119 recebe o valor norte e acima(>=) sul. "
   ]
  },
  {
   "cell_type": "code",
   "execution_count": 14,
   "id": "abb32c77-621a-4ae4-bd9e-04c9e78d1cb6",
   "metadata": {},
   "outputs": [],
   "source": [
    "df_read = df_read.withColumn(\"c_ns\", when(df_read[\"longitude\"] < -119, \"norte\")\n",
    "                                    .otherwise(\"sul\"))"
   ]
  },
  {
   "cell_type": "code",
   "execution_count": 15,
   "id": "1d332515-0afb-4e20-90bb-91e77092a3fc",
   "metadata": {},
   "outputs": [
    {
     "name": "stdout",
     "output_type": "stream",
     "text": [
      "+---------+--------+------------------+-----------+--------------+----------+----------+-------------+------------------+-----------+----+\n",
      "|longitude|latitude|housing_median_age|total_rooms|total_bedrooms|population|households|median_income|median_house_value|    hma_cat|c_ns|\n",
      "+---------+--------+------------------+-----------+--------------+----------+----------+-------------+------------------+-----------+----+\n",
      "|  -114.31|   34.19|              15.0|     5612.0|        1283.0|    1015.0|     472.0|       1.4936|           66900.0|de_0_ate_18| sul|\n",
      "|  -114.47|    34.4|              19.0|     7650.0|        1901.0|    1129.0|     463.0|         1.82|           80100.0|     ate_29| sul|\n",
      "|  -114.56|   33.69|              17.0|      720.0|         174.0|     333.0|     117.0|       1.6509|           85700.0|de_0_ate_18| sul|\n",
      "|  -114.57|   33.64|              14.0|     1501.0|         337.0|     515.0|     226.0|       3.1917|           73400.0|de_0_ate_18| sul|\n",
      "|  -114.57|   33.57|              20.0|     1454.0|         326.0|     624.0|     262.0|        1.925|           65500.0|     ate_29| sul|\n",
      "|  -114.58|   33.63|              29.0|     1387.0|         236.0|     671.0|     239.0|       3.3438|           74000.0|     ate_37| sul|\n",
      "|  -114.58|   33.61|              25.0|     2907.0|         680.0|    1841.0|     633.0|       2.6768|           82400.0|     ate_29| sul|\n",
      "|  -114.59|   34.83|              41.0|      812.0|         168.0|     375.0|     158.0|       1.7083|           48500.0|   acima_37| sul|\n",
      "|  -114.59|   33.61|              34.0|     4789.0|        1175.0|    3134.0|    1056.0|       2.1782|           58400.0|     ate_37| sul|\n",
      "|   -114.6|   34.83|              46.0|     1497.0|         309.0|     787.0|     271.0|       2.1908|           48100.0|   acima_37| sul|\n",
      "|   -114.6|   33.62|              16.0|     3741.0|         801.0|    2434.0|     824.0|       2.6797|           86500.0|de_0_ate_18| sul|\n",
      "|   -114.6|    33.6|              21.0|     1988.0|         483.0|    1182.0|     437.0|        1.625|           62000.0|     ate_29| sul|\n",
      "|  -114.61|   34.84|              48.0|     1291.0|         248.0|     580.0|     211.0|       2.1571|           48600.0|   acima_37| sul|\n",
      "|  -114.61|   34.83|              31.0|     2478.0|         464.0|    1346.0|     479.0|        3.212|           70400.0|     ate_37| sul|\n",
      "|  -114.63|   32.76|              15.0|     1448.0|         378.0|     949.0|     300.0|       0.8585|           45000.0|de_0_ate_18| sul|\n",
      "|  -114.65|   34.89|              17.0|     2556.0|         587.0|    1005.0|     401.0|       1.6991|           69100.0|de_0_ate_18| sul|\n",
      "|  -114.65|    33.6|              28.0|     1678.0|         322.0|     666.0|     256.0|       2.9653|           94900.0|     ate_29| sul|\n",
      "|  -114.65|   32.79|              21.0|       44.0|          33.0|      64.0|      27.0|       0.8571|           25000.0|     ate_29| sul|\n",
      "|  -114.66|   32.74|              17.0|     1388.0|         386.0|     775.0|     320.0|       1.2049|           44000.0|de_0_ate_18| sul|\n",
      "|  -114.67|   33.92|              17.0|       97.0|          24.0|      29.0|      15.0|       1.2656|           27500.0|de_0_ate_18| sul|\n",
      "+---------+--------+------------------+-----------+--------------+----------+----------+-------------+------------------+-----------+----+\n",
      "only showing top 20 rows\n",
      "\n"
     ]
    }
   ],
   "source": [
    "df_read.show()"
   ]
  },
  {
   "cell_type": "markdown",
   "id": "6c444c54-9fde-4ff7-bfd8-721f31f683b7",
   "metadata": {},
   "source": [
    "2.3 - Renomer as colunas:\n",
    "\n",
    "    * hma_cat > age\n",
    "    * c_ns > california_region"
   ]
  },
  {
   "cell_type": "code",
   "execution_count": 16,
   "id": "2f91f02f-82f1-49cf-a526-e8c8ccfe40fa",
   "metadata": {},
   "outputs": [],
   "source": [
    "df_read = df_read.withColumnRenamed(\"hma_cat\", \"age\")\\\n",
    "                 .withColumnRenamed(\"c_ns\", \"california_region\")"
   ]
  },
  {
   "cell_type": "code",
   "execution_count": 17,
   "id": "357448f0-5537-447d-84ab-96fbe71ab552",
   "metadata": {},
   "outputs": [
    {
     "name": "stdout",
     "output_type": "stream",
     "text": [
      "+---------+--------+------------------+-----------+--------------+----------+----------+-------------+------------------+-----------+-----------------+\n",
      "|longitude|latitude|housing_median_age|total_rooms|total_bedrooms|population|households|median_income|median_house_value|        age|california_region|\n",
      "+---------+--------+------------------+-----------+--------------+----------+----------+-------------+------------------+-----------+-----------------+\n",
      "|  -114.31|   34.19|              15.0|     5612.0|        1283.0|    1015.0|     472.0|       1.4936|           66900.0|de_0_ate_18|              sul|\n",
      "|  -114.47|    34.4|              19.0|     7650.0|        1901.0|    1129.0|     463.0|         1.82|           80100.0|     ate_29|              sul|\n",
      "|  -114.56|   33.69|              17.0|      720.0|         174.0|     333.0|     117.0|       1.6509|           85700.0|de_0_ate_18|              sul|\n",
      "|  -114.57|   33.64|              14.0|     1501.0|         337.0|     515.0|     226.0|       3.1917|           73400.0|de_0_ate_18|              sul|\n",
      "|  -114.57|   33.57|              20.0|     1454.0|         326.0|     624.0|     262.0|        1.925|           65500.0|     ate_29|              sul|\n",
      "|  -114.58|   33.63|              29.0|     1387.0|         236.0|     671.0|     239.0|       3.3438|           74000.0|     ate_37|              sul|\n",
      "|  -114.58|   33.61|              25.0|     2907.0|         680.0|    1841.0|     633.0|       2.6768|           82400.0|     ate_29|              sul|\n",
      "|  -114.59|   34.83|              41.0|      812.0|         168.0|     375.0|     158.0|       1.7083|           48500.0|   acima_37|              sul|\n",
      "|  -114.59|   33.61|              34.0|     4789.0|        1175.0|    3134.0|    1056.0|       2.1782|           58400.0|     ate_37|              sul|\n",
      "|   -114.6|   34.83|              46.0|     1497.0|         309.0|     787.0|     271.0|       2.1908|           48100.0|   acima_37|              sul|\n",
      "|   -114.6|   33.62|              16.0|     3741.0|         801.0|    2434.0|     824.0|       2.6797|           86500.0|de_0_ate_18|              sul|\n",
      "|   -114.6|    33.6|              21.0|     1988.0|         483.0|    1182.0|     437.0|        1.625|           62000.0|     ate_29|              sul|\n",
      "|  -114.61|   34.84|              48.0|     1291.0|         248.0|     580.0|     211.0|       2.1571|           48600.0|   acima_37|              sul|\n",
      "|  -114.61|   34.83|              31.0|     2478.0|         464.0|    1346.0|     479.0|        3.212|           70400.0|     ate_37|              sul|\n",
      "|  -114.63|   32.76|              15.0|     1448.0|         378.0|     949.0|     300.0|       0.8585|           45000.0|de_0_ate_18|              sul|\n",
      "|  -114.65|   34.89|              17.0|     2556.0|         587.0|    1005.0|     401.0|       1.6991|           69100.0|de_0_ate_18|              sul|\n",
      "|  -114.65|    33.6|              28.0|     1678.0|         322.0|     666.0|     256.0|       2.9653|           94900.0|     ate_29|              sul|\n",
      "|  -114.65|   32.79|              21.0|       44.0|          33.0|      64.0|      27.0|       0.8571|           25000.0|     ate_29|              sul|\n",
      "|  -114.66|   32.74|              17.0|     1388.0|         386.0|     775.0|     320.0|       1.2049|           44000.0|de_0_ate_18|              sul|\n",
      "|  -114.67|   33.92|              17.0|       97.0|          24.0|      29.0|      15.0|       1.2656|           27500.0|de_0_ate_18|              sul|\n",
      "+---------+--------+------------------+-----------+--------------+----------+----------+-------------+------------------+-----------+-----------------+\n",
      "only showing top 20 rows\n",
      "\n"
     ]
    }
   ],
   "source": [
    "df_read.show()"
   ]
  },
  {
   "cell_type": "markdown",
   "id": "ca54870b-7420-4e0a-8c2e-6194ad682326",
   "metadata": {},
   "source": [
    "### Escrevendo o resultado localmente em parquet, armazenar os dados no seguinte formato:\n",
    "\n",
    "\n",
    "| Coluna              | Datatype    |\n",
    "| --------------------| ----------- |\n",
    "| `age`               | `string`    |\n",
    "| `california_region` | `string`    |\n",
    "| `total_rooms`       | `double`    |\n",
    "| `total_bedrooms`    | `double`    |\n",
    "| `population`        | `double`    |\n",
    "| `households`        | `double`    |\n",
    "| `median_house_value`| `double`    |\n"
   ]
  },
  {
   "cell_type": "code",
   "execution_count": 18,
   "id": "55068f96-4cde-4a09-8f52-011c6a35e96d",
   "metadata": {},
   "outputs": [],
   "source": [
    "columns = [\"age\",\"california_region\",\"total_rooms\",\"total_bedrooms\",\"population\",\"households\",\"median_house_value\"]"
   ]
  },
  {
   "cell_type": "code",
   "execution_count": 19,
   "id": "95bbc471-f5e9-4e14-98ac-0e33718f3299",
   "metadata": {},
   "outputs": [],
   "source": [
    "check_schema = StructType([StructField(\"age\", StringType(), True),\n",
    "                           StructField(\"california_region\", StringType(), True),\n",
    "                           StructField(\"total_rooms\", FloatType(), True),\n",
    "                           StructField(\"total_bedrooms\", FloatType(), True),\n",
    "                           StructField(\"population\", FloatType(), True),\n",
    "                           StructField(\"households\", FloatType(), True),\n",
    "                           StructField(\"median_house_value\", FloatType(), True)])"
   ]
  },
  {
   "cell_type": "code",
   "execution_count": 20,
   "id": "5eb5296e-1cc5-4e3a-9f67-1aeac1fb68fd",
   "metadata": {},
   "outputs": [
    {
     "name": "stderr",
     "output_type": "stream",
     "text": [
      "                                                                                \r"
     ]
    }
   ],
   "source": [
    "df_read.select(*columns).write.option(\"schema\",check_schema).format(\"parquet\").mode('overwrite').save(\"check\")"
   ]
  },
  {
   "cell_type": "markdown",
   "id": "fcb9f301-b5b7-4b2a-9471-01cdb6ebbf81",
   "metadata": {},
   "source": [
    "## 3 - Agregações:"
   ]
  },
  {
   "cell_type": "markdown",
   "id": "7ec08d09-0d09-4d0d-b759-4b8e6a8df82f",
   "metadata": {},
   "source": [
    "3.1 - Escreva um arquivo no formato Parquet localmente considerando o dataframe final, crie a seguinte analise:\n",
    "\n",
    "    * Age\n",
    "    * California_region\n",
    "    * S_population: Soma de population\n",
    "    * M_median_house_value: Média de median_house_value"
   ]
  },
  {
   "cell_type": "code",
   "execution_count": 21,
   "id": "112ed53c-48e1-4008-9b0a-b8e34ad3440f",
   "metadata": {},
   "outputs": [
    {
     "name": "stdout",
     "output_type": "stream",
     "text": [
      "+-----------------+-----------+------------+--------------------+\n",
      "|california_region|        age|S_population|M_median_house_value|\n",
      "+-----------------+-----------+------------+--------------------+\n",
      "|              sul|   acima_37|   2519076.0|   227694.8277657267|\n",
      "|              sul|     ate_29|   3905630.0|  220571.65846153846|\n",
      "|            norte|   acima_37|   2114160.0|  217732.95624136343|\n",
      "|              sul|     ate_37|   3435282.0|  212266.99328593997|\n",
      "|              sul|de_0_ate_18|   4157987.0|  209407.56504269212|\n",
      "|            norte|     ate_37|   1792950.0|   195766.6032154341|\n",
      "|            norte|     ate_29|   3107411.0|  188724.02380952382|\n",
      "|            norte|de_0_ate_18|   3270261.0|  177826.69768637532|\n",
      "+-----------------+-----------+------------+--------------------+\n",
      "\n"
     ]
    }
   ],
   "source": [
    "final_df = df_read.groupBy([\"california_region\", \"age\"])\\\n",
    "                  .agg(sum('population').alias(\"S_population\"), \n",
    "                       mean(\"median_house_value\").alias(\"M_median_house_value\"))\\\n",
    "                  .orderBy(col(\"M_median_house_value\").desc())\n",
    "final_df.show()"
   ]
  },
  {
   "cell_type": "code",
   "execution_count": 22,
   "id": "312212dd-790b-4d3f-835e-7837146b3593",
   "metadata": {},
   "outputs": [],
   "source": [
    "final_schema = StructType([StructField(\"age\", StringType(), True),\n",
    "                           StructField(\"california_region\", StringType(), True),\n",
    "                           StructField(\"S_population\", FloatType(), True),\n",
    "                           StructField(\"M_median_house_value\", FloatType(), True)])"
   ]
  },
  {
   "cell_type": "code",
   "execution_count": 23,
   "id": "3f75f1e8-2550-42ab-81c9-392c7d32434c",
   "metadata": {},
   "outputs": [],
   "source": [
    "final_df.write.option(\"schema\", final_schema).format(\"parquet\").mode('overwrite').save(\"final\")"
   ]
  },
  {
   "cell_type": "code",
   "execution_count": null,
   "id": "6b0f7d71-0605-48ac-a4ae-567229dc94a8",
   "metadata": {},
   "outputs": [],
   "source": []
  },
  {
   "cell_type": "code",
   "execution_count": null,
   "id": "afce6b0e-499e-49cf-9825-7791d0152247",
   "metadata": {},
   "outputs": [],
   "source": []
  }
 ],
 "metadata": {
  "kernelspec": {
   "display_name": "Python 3 (ipykernel)",
   "language": "python",
   "name": "python3"
  },
  "language_info": {
   "codemirror_mode": {
    "name": "ipython",
    "version": 3
   },
   "file_extension": ".py",
   "mimetype": "text/x-python",
   "name": "python",
   "nbconvert_exporter": "python",
   "pygments_lexer": "ipython3",
   "version": "3.10.8"
  }
 },
 "nbformat": 4,
 "nbformat_minor": 5
}
